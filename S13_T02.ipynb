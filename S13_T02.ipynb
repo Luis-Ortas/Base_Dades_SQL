{
 "cells": [
  {
   "cell_type": "markdown",
   "id": "ec07b51a",
   "metadata": {},
   "source": [
    "# <font color='#d50283'>IT Academy - Data Science</font>\n",
    "##  S13 T02: Base de dades MySQL\n",
    "### Luis Ortas"
   ]
  },
  {
   "cell_type": "code",
   "execution_count": 1,
   "id": "15d56765",
   "metadata": {
    "ExecuteTime": {
     "end_time": "2022-03-22T17:23:23.019159Z",
     "start_time": "2022-03-22T17:23:21.628216Z"
    }
   },
   "outputs": [],
   "source": [
    "from IPython.display import Image\n",
    "import mysql.connector\n",
    "from mysql.connector import Error\n",
    "import pandas as pd\n",
    "\n",
    "import seaborn as sns\n",
    "import matplotlib.pyplot as plt"
   ]
  },
  {
   "cell_type": "code",
   "execution_count": 2,
   "id": "2571b377",
   "metadata": {
    "ExecuteTime": {
     "end_time": "2022-03-22T17:23:23.034440Z",
     "start_time": "2022-03-22T17:23:23.021159Z"
    }
   },
   "outputs": [],
   "source": [
    "#pip install mysql-connector-python"
   ]
  },
  {
   "cell_type": "markdown",
   "id": "232a78e1",
   "metadata": {},
   "source": [
    "***\n",
    "### Exercici 1\n",
    "Crea una base de dades relacionals senzilla utilitzant MySQL(https://www.mysql.com/) i connecta-la a Python"
   ]
  },
  {
   "cell_type": "code",
   "execution_count": 3,
   "id": "3fd30db8",
   "metadata": {
    "ExecuteTime": {
     "end_time": "2022-03-22T17:23:23.082441Z",
     "start_time": "2022-03-22T17:23:23.038440Z"
    }
   },
   "outputs": [
    {
     "name": "stdout",
     "output_type": "stream",
     "text": [
      "<mysql.connector.connection_cext.CMySQLConnection object at 0x000002046C5377C0>\n"
     ]
    }
   ],
   "source": [
    "db = mysql.connector.connect(\n",
    "     host=\"localhost\",\n",
    "     user=\"root\",\n",
    "     password=\"2323\")\n",
    "\n",
    "print(db)"
   ]
  },
  {
   "cell_type": "code",
   "execution_count": 4,
   "id": "234cc574",
   "metadata": {
    "ExecuteTime": {
     "end_time": "2022-03-22T17:23:23.113459Z",
     "start_time": "2022-03-22T17:23:23.084443Z"
    }
   },
   "outputs": [],
   "source": [
    "mydb = mysql.connector.connect(\n",
    "  host=\"localhost\",\n",
    "  user=\"root\",\n",
    "  password=\"2323\"\n",
    ")\n",
    "\n",
    "mycursor = mydb.cursor()"
   ]
  },
  {
   "cell_type": "code",
   "execution_count": 5,
   "id": "fedd60aa",
   "metadata": {
    "ExecuteTime": {
     "end_time": "2022-03-22T17:23:23.129459Z",
     "start_time": "2022-03-22T17:23:23.115459Z"
    }
   },
   "outputs": [
    {
     "name": "stdout",
     "output_type": "stream",
     "text": [
      "('information_schema',)\n",
      "('mibasedatos',)\n",
      "('mydabase',)\n",
      "('mydatabase1',)\n",
      "('mysql',)\n",
      "('performance_schema',)\n",
      "('sakila',)\n",
      "('sys',)\n",
      "('world',)\n"
     ]
    }
   ],
   "source": [
    "mycursor.execute(\"SHOW DATABASES\")\n",
    "\n",
    "for x in mycursor:\n",
    "  print(x)"
   ]
  },
  {
   "cell_type": "code",
   "execution_count": 6,
   "id": "830fed7e",
   "metadata": {
    "ExecuteTime": {
     "end_time": "2022-03-22T17:23:23.144460Z",
     "start_time": "2022-03-22T17:23:23.132459Z"
    }
   },
   "outputs": [],
   "source": [
    " database=\"sakila\""
   ]
  },
  {
   "cell_type": "code",
   "execution_count": 7,
   "id": "4dfd1467",
   "metadata": {
    "ExecuteTime": {
     "end_time": "2022-03-22T17:23:23.160463Z",
     "start_time": "2022-03-22T17:23:23.147463Z"
    }
   },
   "outputs": [
    {
     "data": {
      "text/plain": [
       "<mysql.connector.cursor_cext.CMySQLCursor at 0x2046c3f7d90>"
      ]
     },
     "execution_count": 7,
     "metadata": {},
     "output_type": "execute_result"
    }
   ],
   "source": [
    "mycursor"
   ]
  },
  {
   "cell_type": "code",
   "execution_count": 8,
   "id": "5f79925a",
   "metadata": {
    "ExecuteTime": {
     "end_time": "2022-03-22T17:23:23.240105Z",
     "start_time": "2022-03-22T17:23:23.165461Z"
    }
   },
   "outputs": [
    {
     "name": "stdout",
     "output_type": "stream",
     "text": [
      "('information_schema',)\n",
      "('mibasedatos',)\n",
      "('mydabase',)\n",
      "('mydatabase1',)\n",
      "('mysql',)\n",
      "('performance_schema',)\n",
      "('sakila',)\n",
      "('sys',)\n",
      "('world',)\n"
     ]
    }
   ],
   "source": [
    "#crear base de datos\n",
    "\n",
    "mycursor = db.cursor()\n",
    "mycursor.execute(\"DROP DATABASE IF EXISTS MiBaseDatos\")\n",
    "mycursor.execute(\"CREATE DATABASE MiBaseDatos\")\n",
    "mycursor.execute(\"SHOW DATABASES\")\n",
    "for x in mycursor:\n",
    "    print(x)"
   ]
  },
  {
   "cell_type": "code",
   "execution_count": 9,
   "id": "7244ef9c",
   "metadata": {
    "ExecuteTime": {
     "end_time": "2022-03-22T17:23:23.379468Z",
     "start_time": "2022-03-22T17:23:23.244105Z"
    }
   },
   "outputs": [
    {
     "name": "stdout",
     "output_type": "stream",
     "text": [
      "('empleado',)\n",
      "('establecimiento',)\n",
      "('producto',)\n",
      "('referencia',)\n",
      "('transacion',)\n"
     ]
    }
   ],
   "source": [
    "#Creando tablas\n",
    "mycursor.execute(\"USE MiBaseDatos\")\n",
    "\n",
    "# Establecimiento\n",
    "mycursor.execute(\"DROP TABLE IF EXISTS establecimiento\")\n",
    "mycursor.execute(\"\"\"CREATE TABLE establecimiento \n",
    "                (EstablecimientoID INT AUTO_INCREMENT PRIMARY KEY,\n",
    "                 Nombre VARCHAR(255), \n",
    "                Localizacion VARCHAR(255), \n",
    "                Area FLOAT)\"\"\")\n",
    "\n",
    "#Empleado\n",
    "mycursor.execute(\"DROP TABLE IF EXISTS empleado\")\n",
    "mycursor.execute(\"\"\"CREATE TABLE empleado \n",
    "                (EmpleadoID INT AUTO_INCREMENT PRIMARY KEY,\n",
    "                 DNI VARCHAR(255), \n",
    "                Nombre VARCHAR(255), \n",
    "                Apellidos VARCHAR(255),\n",
    "                categoria VARCHAR(255),\n",
    "              \n",
    "                EstablecimientoID INT)\"\"\")\n",
    "\n",
    "\n",
    "#Producto\n",
    "mycursor.execute(\"DROP TABLE IF EXISTS producto\")\n",
    "mycursor.execute(\"\"\"CREATE TABLE producto \n",
    "                (ProductoID INT AUTO_INCREMENT PRIMARY KEY,\n",
    "                PVP FLOAT, \n",
    "                Departamento VARCHAR(255), \n",
    "                \n",
    "                EstablecimientoID INT,\n",
    "                Referencia INT)\"\"\")\n",
    "#Referencia\n",
    "mycursor.execute(\"DROP TABLE IF EXISTS referencia\")\n",
    "mycursor.execute(\"\"\"CREATE TABLE referencia \n",
    "                (Referencia INT AUTO_INCREMENT PRIMARY KEY,\n",
    "                Nombre VARCHAR(255),\n",
    "                Descripcion VARCHAR(255),\n",
    "                PrecioMin FLOAT)\"\"\")\n",
    "\n",
    "#Transacion\n",
    "mycursor.execute(\"DROP TABLE IF EXISTS transacion\")\n",
    "mycursor.execute(\"\"\"CREATE TABLE transacion \n",
    "                (TransacionID INT AUTO_INCREMENT PRIMARY KEY,\n",
    "                EstablecimientoID INT,\n",
    "                EmpleadoID INT,\n",
    "                ProductoID INT)\"\"\")\n",
    "\n",
    "mycursor.execute(\"SHOW TABLES\")\n",
    "for x in mycursor:\n",
    "    print(x)"
   ]
  },
  {
   "cell_type": "code",
   "execution_count": 10,
   "id": "4f8b35f9",
   "metadata": {
    "ExecuteTime": {
     "end_time": "2022-03-22T17:23:23.703548Z",
     "start_time": "2022-03-22T17:23:23.381468Z"
    }
   },
   "outputs": [],
   "source": [
    "#foreign keys\n",
    "\n",
    "mycursor.execute(\"USE MiBaseDatos\")\n",
    "\n",
    "mycursor.execute(\"\"\"ALTER TABLE empleado ADD FOREIGN KEY (EstablecimientoID) REFERENCES establecimiento(EstablecimientoID)\"\"\")\n",
    "mycursor.execute(\"\"\"ALTER TABLE producto ADD FOREIGN KEY (EstablecimientoID) REFERENCES  establecimiento(EstablecimientoID)\"\"\")\n",
    "mycursor.execute(\"\"\"ALTER TABLE producto ADD FOREIGN KEY (Referencia) REFERENCES referencia(Referencia)\"\"\")\n",
    "\n",
    "mycursor.execute(\"\"\"ALTER TABLE transacion ADD FOREIGN KEY (EstablecimientoID) REFERENCES establecimiento(EstablecimientoID)\"\"\")\n",
    "mycursor.execute(\"\"\"ALTER TABLE transacion ADD FOREIGN KEY (ProductoID) REFERENCES producto(ProductoID)\"\"\")\n",
    "mycursor.execute(\"\"\"ALTER TABLE transacion ADD FOREIGN KEY (EmpleadoID) REFERENCES empleado(EmpleadoID)\"\"\")"
   ]
  },
  {
   "cell_type": "code",
   "execution_count": 11,
   "id": "198e0f78",
   "metadata": {
    "ExecuteTime": {
     "end_time": "2022-03-22T17:23:23.719548Z",
     "start_time": "2022-03-22T17:23:23.705548Z"
    }
   },
   "outputs": [
    {
     "name": "stdout",
     "output_type": "stream",
     "text": [
      "4 registros insertados\n"
     ]
    }
   ],
   "source": [
    "## insertando valores\n",
    "sql = \"INSERT INTO Establecimiento (Nombre, Localizacion, Area) VALUES (%s, %s, %s)\"\n",
    "val = [(\"Local 1\", \"C/ y coma 1\", \"100\"),\n",
    "      (\"Local 2\", \"C/ de los olvidos 2 \", \"100\"),\n",
    "      (\"Local 3\", \"C/ de los establecimientos 3\", \"300\"),\n",
    "      (\"Local 4\", \"C/ de los establecimientos 4\", \"400\")]\n",
    "mycursor.executemany(sql, val)\n",
    "db.commit()\n",
    "print(mycursor.rowcount, \"registros insertados\")"
   ]
  },
  {
   "cell_type": "code",
   "execution_count": 12,
   "id": "4c028069",
   "metadata": {
    "ExecuteTime": {
     "end_time": "2022-03-22T17:23:23.735548Z",
     "start_time": "2022-03-22T17:23:23.722549Z"
    }
   },
   "outputs": [
    {
     "name": "stdout",
     "output_type": "stream",
     "text": [
      "(1, 'Local 1', 'C/ y coma 1', 100.0)\n",
      "(2, 'Local 2', 'C/ de los olvidos 2 ', 100.0)\n",
      "(3, 'Local 3', 'C/ de los establecimientos 3', 300.0)\n",
      "(4, 'Local 4', 'C/ de los establecimientos 4', 400.0)\n"
     ]
    }
   ],
   "source": [
    "#Imprimir los valores de establecimiento.\n",
    "mycursor.execute(\"SELECT * FROM establecimiento\")\n",
    "myresult = mycursor.fetchall()\n",
    "for x in myresult:\n",
    "    print(x)"
   ]
  },
  {
   "cell_type": "code",
   "execution_count": 13,
   "id": "cfa60c87",
   "metadata": {
    "ExecuteTime": {
     "end_time": "2022-03-22T17:23:23.750552Z",
     "start_time": "2022-03-22T17:23:23.737550Z"
    }
   },
   "outputs": [
    {
     "name": "stdout",
     "output_type": "stream",
     "text": [
      "5 Registros insertados\n"
     ]
    }
   ],
   "source": [
    "# Insertando valores de empeleados           \n",
    "sql = \"INSERT INTO empleado (Nombre, Apellidos, DNI,Categoria, EstablecimientoID) VALUES (%s, %s, %s, %s,%s)\"\n",
    "val = [(\"Maria\",\"Garcia Martinez\",\"99999999K\",\"Jefe\",\"1\"),\n",
    "       (\"Marip\",\"Perez Lopez\",\"99999779K\",\"Director\",\"1\"),\n",
    "      (\"Irene\",\"Lopez Martin\",\"88888888K\",\"Cajero\",\"2\"),\n",
    "      (\"Carles\",\"Diaz Romero\",\"77777777K\",\"Jefe\",\"3\"),\n",
    "      (\"Pepe\",\"Alcala Romero\",\"777ssss77K\",\"Machaca\",\"4\")]\n",
    "mycursor.executemany(sql, val)\n",
    "db.commit()\n",
    "print(mycursor.rowcount, \"Registros insertados\")"
   ]
  },
  {
   "cell_type": "code",
   "execution_count": 14,
   "id": "12e197c5",
   "metadata": {
    "ExecuteTime": {
     "end_time": "2022-03-22T17:23:23.765550Z",
     "start_time": "2022-03-22T17:23:23.753552Z"
    }
   },
   "outputs": [
    {
     "name": "stdout",
     "output_type": "stream",
     "text": [
      "(1, '99999999K', 'Maria', 'Garcia Martinez', 'Jefe', 1)\n",
      "(2, '99999779K', 'Marip', 'Perez Lopez', 'Director', 1)\n",
      "(3, '88888888K', 'Irene', 'Lopez Martin', 'Cajero', 2)\n",
      "(4, '77777777K', 'Carles', 'Diaz Romero', 'Jefe', 3)\n",
      "(5, '777ssss77K', 'Pepe', 'Alcala Romero', 'Machaca', 4)\n"
     ]
    }
   ],
   "source": [
    "#Imprimir los valores de empleados.\n",
    "mycursor.execute(\"SELECT * FROM empleado\")\n",
    "myresult = mycursor.fetchall()\n",
    "for x in myresult:\n",
    "    print(x)"
   ]
  },
  {
   "cell_type": "code",
   "execution_count": 15,
   "id": "e53e18cf",
   "metadata": {
    "ExecuteTime": {
     "end_time": "2022-03-22T17:23:23.781555Z",
     "start_time": "2022-03-22T17:23:23.767551Z"
    }
   },
   "outputs": [
    {
     "name": "stdout",
     "output_type": "stream",
     "text": [
      "6 Registros insertados\n"
     ]
    }
   ],
   "source": [
    "# Insertando valores de referencia           \n",
    "sql = \"INSERT INTO referencia (Nombre, Descripcion, PrecioMin) VALUES (%s, %s, %s)\"\n",
    "val = [(\"Tazas\",\"6 tazas de cafe\",\"20.5\"),\n",
    "       (\"Vasos\",\"6 vasos 25cm\",\"18.5\"),\n",
    "      (\"Platos\",\"6 platos\",\"20.5\"),\n",
    "      (\"Tenedores\",\"36 tenedores\",\"15.5\"),\n",
    "       (\"cucharas\",\"36 cucharas\",\"16.0\"),\n",
    "       (\"Cuchilloss\",\"36 cuchillos\",\"17\")]\n",
    "mycursor.executemany(sql, val)\n",
    "db.commit()\n",
    "print(mycursor.rowcount, \"Registros insertados\")"
   ]
  },
  {
   "cell_type": "code",
   "execution_count": 16,
   "id": "84f077f5",
   "metadata": {
    "ExecuteTime": {
     "end_time": "2022-03-22T17:23:23.797554Z",
     "start_time": "2022-03-22T17:23:23.783554Z"
    }
   },
   "outputs": [
    {
     "name": "stdout",
     "output_type": "stream",
     "text": [
      "(1, 'Tazas', '6 tazas de cafe', 20.5)\n",
      "(2, 'Vasos', '6 vasos 25cm', 18.5)\n",
      "(3, 'Platos', '6 platos', 20.5)\n",
      "(4, 'Tenedores', '36 tenedores', 15.5)\n",
      "(5, 'cucharas', '36 cucharas', 16.0)\n",
      "(6, 'Cuchilloss', '36 cuchillos', 17.0)\n"
     ]
    }
   ],
   "source": [
    "#Imprimir los valores de empleados.\n",
    "mycursor.execute(\"SELECT * FROM referencia\")\n",
    "myresult = mycursor.fetchall()\n",
    "for x in myresult:\n",
    "    print(x)"
   ]
  },
  {
   "cell_type": "code",
   "execution_count": 17,
   "id": "b9cb7d30",
   "metadata": {
    "ExecuteTime": {
     "end_time": "2022-03-22T17:23:23.828562Z",
     "start_time": "2022-03-22T17:23:23.800555Z"
    }
   },
   "outputs": [
    {
     "name": "stdout",
     "output_type": "stream",
     "text": [
      "20 Registros insertados\n"
     ]
    }
   ],
   "source": [
    "# Insertando valores de producto         \n",
    "sql = \"INSERT INTO producto (Referencia, EstablecimientoID, PVP, Departamento) VALUES (%s, %s, %s,%s)\"\n",
    "\n",
    "val = [(\"1\",\"1\",\"21.5\",\"Menaje\"),\n",
    "       (\"2\",\"1\",\"21.5\",\"Menaje\"),\n",
    "       (\"3\",\"1\",\"21.5\",\"Menaje\"),\n",
    "       (\"4\",\"1\",\"21.5\",\"Menaje\"),\n",
    "       \n",
    "       (\"1\",\"2\",\"22\",\"Menaje\"),\n",
    "       (\"2\",\"2\",\"22\",\"Menaje\"),\n",
    "       (\"3\",\"2\",\"22\",\"Menaje\"),\n",
    "       (\"4\",\"2\",\"22\",\"Menaje\"),\n",
    "       \n",
    "        (\"1\",\"3\",\"22\",\"Menaje\"),\n",
    "        (\"2\",\"3\",\"22\",\"Menaje\"),\n",
    "       (\"3\",\"3\",\"22\",\"Menaje\"),\n",
    "       (\"4\",\"3\",\"22\",\"Menaje\"),\n",
    "       (\"5\",\"3\",\"22\",\"Menaje\"),\n",
    "       (\"6\",\"3\",\"22\",\"Menaje\"),\n",
    "      \n",
    "        (\"1\",\"4\",\"22\",\"Menaje\"),\n",
    "        (\"2\",\"4\",\"22\",\"Menaje\"),\n",
    "       (\"3\",\"4\",\"22\",\"Menaje\"),\n",
    "       (\"4\",\"4\",\"22\",\"Menaje\"),\n",
    "       (\"5\",\"4\",\"22\",\"Menaje\"),\n",
    "       (\"6\",\"4\",\"22\",\"Menaje\"),]\n",
    "\n",
    "              \n",
    "mycursor.executemany(sql, val)\n",
    "db.commit()\n",
    "print(mycursor.rowcount, \"Registros insertados\")"
   ]
  },
  {
   "cell_type": "code",
   "execution_count": 18,
   "id": "8ea5445d",
   "metadata": {
    "ExecuteTime": {
     "end_time": "2022-03-22T17:23:23.844557Z",
     "start_time": "2022-03-22T17:23:23.831559Z"
    }
   },
   "outputs": [
    {
     "name": "stdout",
     "output_type": "stream",
     "text": [
      "(1, 21.5, 'Menaje', 1, 1)\n",
      "(2, 21.5, 'Menaje', 1, 2)\n",
      "(3, 21.5, 'Menaje', 1, 3)\n",
      "(4, 21.5, 'Menaje', 1, 4)\n",
      "(5, 22.0, 'Menaje', 2, 1)\n",
      "(6, 22.0, 'Menaje', 2, 2)\n",
      "(7, 22.0, 'Menaje', 2, 3)\n",
      "(8, 22.0, 'Menaje', 2, 4)\n",
      "(9, 22.0, 'Menaje', 3, 1)\n",
      "(10, 22.0, 'Menaje', 3, 2)\n",
      "(11, 22.0, 'Menaje', 3, 3)\n",
      "(12, 22.0, 'Menaje', 3, 4)\n",
      "(13, 22.0, 'Menaje', 3, 5)\n",
      "(14, 22.0, 'Menaje', 3, 6)\n",
      "(15, 22.0, 'Menaje', 4, 1)\n",
      "(16, 22.0, 'Menaje', 4, 2)\n",
      "(17, 22.0, 'Menaje', 4, 3)\n",
      "(18, 22.0, 'Menaje', 4, 4)\n",
      "(19, 22.0, 'Menaje', 4, 5)\n",
      "(20, 22.0, 'Menaje', 4, 6)\n"
     ]
    }
   ],
   "source": [
    "#Imprimir los valores de empleados.\n",
    "mycursor.execute(\"SELECT * FROM producto\")\n",
    "myresult = mycursor.fetchall()\n",
    "for x in myresult:\n",
    "    print(x)"
   ]
  },
  {
   "cell_type": "code",
   "execution_count": 19,
   "id": "beec3022",
   "metadata": {
    "ExecuteTime": {
     "end_time": "2022-03-22T17:23:23.860563Z",
     "start_time": "2022-03-22T17:23:23.847562Z"
    }
   },
   "outputs": [
    {
     "name": "stdout",
     "output_type": "stream",
     "text": [
      "16 Registros insertados\n"
     ]
    }
   ],
   "source": [
    "sql = \"INSERT INTO transacion ( EstablecimientoID, EmpleadoID,ProductoID) VALUES (%s, %s, %s)\"\n",
    "values=[(\"1\",\"1\",\"1\"),\n",
    "       (\"1\",\"1\",\"2\"),\n",
    "       (\"1\",\"2\",\"3\"),\n",
    "       (\"1\",\"2\",\"4\"),\n",
    "        \n",
    "        (\"2\",\"3\",\"5\"),\n",
    "       (\"2\",\"3\",\"6\"),\n",
    "       (\"2\",\"3\",\"7\"),\n",
    "       (\"2\",\"3\",\"8\"),\n",
    "        \n",
    "        (\"3\",\"4\",\"9\"),\n",
    "       (\"3\",\"4\",\"10\"),\n",
    "       (\"3\",\"4\",\"11\"),\n",
    "       (\"3\",\"4\",\"12\"),\n",
    "        \n",
    "        (\"4\",\"5\",\"13\"),\n",
    "       (\"4\",\"5\",\"14\"),\n",
    "       (\"4\",\"5\",\"15\"),\n",
    "       (\"4\",\"5\",\"16\")\n",
    "        \n",
    "        ]\n",
    "       \n",
    "\n",
    "mycursor.executemany(sql, values)\n",
    "\n",
    "db.commit()\n",
    "print(mycursor.rowcount, \"Registros insertados\")"
   ]
  },
  {
   "cell_type": "code",
   "execution_count": 20,
   "id": "2d470e0d",
   "metadata": {
    "ExecuteTime": {
     "end_time": "2022-03-22T17:23:23.876560Z",
     "start_time": "2022-03-22T17:23:23.862560Z"
    }
   },
   "outputs": [
    {
     "name": "stdout",
     "output_type": "stream",
     "text": [
      "(1, 1, 1, 1)\n",
      "(2, 1, 1, 2)\n",
      "(3, 1, 2, 3)\n",
      "(4, 1, 2, 4)\n",
      "(5, 2, 3, 5)\n",
      "(6, 2, 3, 6)\n",
      "(7, 2, 3, 7)\n",
      "(8, 2, 3, 8)\n",
      "(9, 3, 4, 9)\n",
      "(10, 3, 4, 10)\n",
      "(11, 3, 4, 11)\n",
      "(12, 3, 4, 12)\n",
      "(13, 4, 5, 13)\n",
      "(14, 4, 5, 14)\n",
      "(15, 4, 5, 15)\n",
      "(16, 4, 5, 16)\n"
     ]
    }
   ],
   "source": [
    "#Imprimir los valores de empleados.\n",
    "mycursor.execute(\"SELECT * FROM transacion\")\n",
    "myresult = mycursor.fetchall()\n",
    "for x in myresult:\n",
    "    print(x)"
   ]
  },
  {
   "cell_type": "markdown",
   "id": "8bbe8984",
   "metadata": {
    "ExecuteTime": {
     "end_time": "2022-03-22T17:11:50.703835Z",
     "start_time": "2022-03-22T17:11:50.689834Z"
    }
   },
   "source": [
    "***\n",
    "\n",
    "### Exercici 2\n",
    "Mostra que pots carregar algunes consultes senzilles a un Pandas Dataframe."
   ]
  },
  {
   "cell_type": "code",
   "execution_count": 21,
   "id": "40ec00be",
   "metadata": {
    "ExecuteTime": {
     "end_time": "2022-03-22T17:23:24.096576Z",
     "start_time": "2022-03-22T17:23:23.878561Z"
    }
   },
   "outputs": [],
   "source": [
    "# Listado de Establecimientos\n",
    "\n",
    "try:\n",
    "    db = mysql.connector.connect(host=\"localhost\", database = 'mibasedatos',user=\"root\", passwd=\"2323\",use_pure=True)\n",
    "    query = \"SELECT * FROM establecimiento;\"\n",
    "    enterprise_dataFrame = pd.read_sql(query,db)\n",
    "except Exception as e:\n",
    "    db.close()\n",
    "    print(str(e))"
   ]
  },
  {
   "cell_type": "code",
   "execution_count": 22,
   "id": "72c0766e",
   "metadata": {
    "ExecuteTime": {
     "end_time": "2022-03-22T17:23:24.128582Z",
     "start_time": "2022-03-22T17:23:24.099577Z"
    }
   },
   "outputs": [
    {
     "data": {
      "text/html": [
       "<div>\n",
       "<style scoped>\n",
       "    .dataframe tbody tr th:only-of-type {\n",
       "        vertical-align: middle;\n",
       "    }\n",
       "\n",
       "    .dataframe tbody tr th {\n",
       "        vertical-align: top;\n",
       "    }\n",
       "\n",
       "    .dataframe thead th {\n",
       "        text-align: right;\n",
       "    }\n",
       "</style>\n",
       "<table border=\"1\" class=\"dataframe\">\n",
       "  <thead>\n",
       "    <tr style=\"text-align: right;\">\n",
       "      <th></th>\n",
       "      <th>EstablecimientoID</th>\n",
       "      <th>Nombre</th>\n",
       "      <th>Localizacion</th>\n",
       "      <th>Area</th>\n",
       "    </tr>\n",
       "  </thead>\n",
       "  <tbody>\n",
       "    <tr>\n",
       "      <th>0</th>\n",
       "      <td>1</td>\n",
       "      <td>Local 1</td>\n",
       "      <td>C/ y coma 1</td>\n",
       "      <td>100.0</td>\n",
       "    </tr>\n",
       "    <tr>\n",
       "      <th>1</th>\n",
       "      <td>2</td>\n",
       "      <td>Local 2</td>\n",
       "      <td>C/ de los olvidos 2</td>\n",
       "      <td>100.0</td>\n",
       "    </tr>\n",
       "    <tr>\n",
       "      <th>2</th>\n",
       "      <td>3</td>\n",
       "      <td>Local 3</td>\n",
       "      <td>C/ de los establecimientos 3</td>\n",
       "      <td>300.0</td>\n",
       "    </tr>\n",
       "    <tr>\n",
       "      <th>3</th>\n",
       "      <td>4</td>\n",
       "      <td>Local 4</td>\n",
       "      <td>C/ de los establecimientos 4</td>\n",
       "      <td>400.0</td>\n",
       "    </tr>\n",
       "  </tbody>\n",
       "</table>\n",
       "</div>"
      ],
      "text/plain": [
       "   EstablecimientoID   Nombre                  Localizacion   Area\n",
       "0                  1  Local 1                   C/ y coma 1  100.0\n",
       "1                  2  Local 2          C/ de los olvidos 2   100.0\n",
       "2                  3  Local 3  C/ de los establecimientos 3  300.0\n",
       "3                  4  Local 4  C/ de los establecimientos 4  400.0"
      ]
     },
     "execution_count": 22,
     "metadata": {},
     "output_type": "execute_result"
    }
   ],
   "source": [
    " enterprise_dataFrame\n",
    "    "
   ]
  },
  {
   "cell_type": "code",
   "execution_count": 23,
   "id": "aa30c9db",
   "metadata": {
    "ExecuteTime": {
     "end_time": "2022-03-22T17:23:24.192598Z",
     "start_time": "2022-03-22T17:23:24.133578Z"
    }
   },
   "outputs": [],
   "source": [
    "# Creamos tabla ordenada del total de ventas por empleaado\n",
    "try:\n",
    "    db = mysql.connector.connect(host=\"localhost\", database = 'mibasedatos',user=\"root\", passwd=\"2323\",use_pure=True)\n",
    "    query = \"\"\"SELECT empleado.Nombre, empleado.Apellidos, sum(producto.PVP) AS Ventas_totales\n",
    "FROM ((empleado\n",
    "INNER JOIN transacion ON empleado.EmpleadoID=transacion.EmpleadoID)\n",
    "INNER JOIN producto ON transacion.ProductoID=producto.ProductoID)\n",
    "GROUP BY empleado.Nombre\n",
    "ORDER BY Ventas_Totales DESC;\"\"\"\n",
    "    Total_Ventas_df = pd.read_sql(query,db)\n",
    "except Exception as e:\n",
    "    db.close()\n",
    "    print(str(e))"
   ]
  },
  {
   "cell_type": "code",
   "execution_count": 24,
   "id": "3d3c7e2d",
   "metadata": {
    "ExecuteTime": {
     "end_time": "2022-03-22T17:23:24.208598Z",
     "start_time": "2022-03-22T17:23:24.194598Z"
    }
   },
   "outputs": [
    {
     "data": {
      "text/html": [
       "<div>\n",
       "<style scoped>\n",
       "    .dataframe tbody tr th:only-of-type {\n",
       "        vertical-align: middle;\n",
       "    }\n",
       "\n",
       "    .dataframe tbody tr th {\n",
       "        vertical-align: top;\n",
       "    }\n",
       "\n",
       "    .dataframe thead th {\n",
       "        text-align: right;\n",
       "    }\n",
       "</style>\n",
       "<table border=\"1\" class=\"dataframe\">\n",
       "  <thead>\n",
       "    <tr style=\"text-align: right;\">\n",
       "      <th></th>\n",
       "      <th>Nombre</th>\n",
       "      <th>Apellidos</th>\n",
       "      <th>Ventas_totales</th>\n",
       "    </tr>\n",
       "  </thead>\n",
       "  <tbody>\n",
       "    <tr>\n",
       "      <th>0</th>\n",
       "      <td>Irene</td>\n",
       "      <td>Lopez Martin</td>\n",
       "      <td>88.0</td>\n",
       "    </tr>\n",
       "    <tr>\n",
       "      <th>1</th>\n",
       "      <td>Carles</td>\n",
       "      <td>Diaz Romero</td>\n",
       "      <td>88.0</td>\n",
       "    </tr>\n",
       "    <tr>\n",
       "      <th>2</th>\n",
       "      <td>Pepe</td>\n",
       "      <td>Alcala Romero</td>\n",
       "      <td>88.0</td>\n",
       "    </tr>\n",
       "    <tr>\n",
       "      <th>3</th>\n",
       "      <td>Maria</td>\n",
       "      <td>Garcia Martinez</td>\n",
       "      <td>43.0</td>\n",
       "    </tr>\n",
       "    <tr>\n",
       "      <th>4</th>\n",
       "      <td>Marip</td>\n",
       "      <td>Perez Lopez</td>\n",
       "      <td>43.0</td>\n",
       "    </tr>\n",
       "  </tbody>\n",
       "</table>\n",
       "</div>"
      ],
      "text/plain": [
       "   Nombre        Apellidos  Ventas_totales\n",
       "0   Irene     Lopez Martin            88.0\n",
       "1  Carles      Diaz Romero            88.0\n",
       "2    Pepe    Alcala Romero            88.0\n",
       "3   Maria  Garcia Martinez            43.0\n",
       "4   Marip      Perez Lopez            43.0"
      ]
     },
     "execution_count": 24,
     "metadata": {},
     "output_type": "execute_result"
    }
   ],
   "source": [
    "Total_Ventas_df"
   ]
  },
  {
   "cell_type": "code",
   "execution_count": 25,
   "id": "db579b53",
   "metadata": {
    "ExecuteTime": {
     "end_time": "2022-03-22T17:23:24.272207Z",
     "start_time": "2022-03-22T17:23:24.211599Z"
    }
   },
   "outputs": [],
   "source": [
    "# A que precio se ha vendido la referencia 1 y donde?\n",
    "\n",
    "try:\n",
    "    db = mysql.connector.connect(host=\"localhost\", database = 'mibasedatos',user=\"root\", passwd=\"2323\",use_pure=True)\n",
    "    query = \"\"\"SELECT establecimiento.Nombre, establecimiento.Localizacion, referencia.Referencia,referencia.Nombre,producto.PVP\n",
    "FROM(((establecimiento\n",
    "INNER JOIN transacion ON establecimiento.EstablecimientoID=transacion.EstablecimientoID)\n",
    "INNER JOIN producto ON transacion.ProductoID=producto.ProductoID)\n",
    "INNER JOIN referencia ON producto.Referencia=referencia.Referencia)\n",
    "WHERE referencia.Referencia=\"1\";\"\"\"\n",
    "    Ref1_df = pd.read_sql(query,db)\n",
    "except Exception as e:\n",
    "    db.close()\n",
    "    print(str(e))\n",
    "\n"
   ]
  },
  {
   "cell_type": "code",
   "execution_count": 26,
   "id": "9e723fb3",
   "metadata": {
    "ExecuteTime": {
     "end_time": "2022-03-22T17:23:24.288207Z",
     "start_time": "2022-03-22T17:23:24.274206Z"
    }
   },
   "outputs": [
    {
     "data": {
      "text/html": [
       "<div>\n",
       "<style scoped>\n",
       "    .dataframe tbody tr th:only-of-type {\n",
       "        vertical-align: middle;\n",
       "    }\n",
       "\n",
       "    .dataframe tbody tr th {\n",
       "        vertical-align: top;\n",
       "    }\n",
       "\n",
       "    .dataframe thead th {\n",
       "        text-align: right;\n",
       "    }\n",
       "</style>\n",
       "<table border=\"1\" class=\"dataframe\">\n",
       "  <thead>\n",
       "    <tr style=\"text-align: right;\">\n",
       "      <th></th>\n",
       "      <th>Nombre</th>\n",
       "      <th>Localizacion</th>\n",
       "      <th>Referencia</th>\n",
       "      <th>Nombre</th>\n",
       "      <th>PVP</th>\n",
       "    </tr>\n",
       "  </thead>\n",
       "  <tbody>\n",
       "    <tr>\n",
       "      <th>0</th>\n",
       "      <td>Local 1</td>\n",
       "      <td>C/ y coma 1</td>\n",
       "      <td>1</td>\n",
       "      <td>Tazas</td>\n",
       "      <td>21.5</td>\n",
       "    </tr>\n",
       "    <tr>\n",
       "      <th>1</th>\n",
       "      <td>Local 2</td>\n",
       "      <td>C/ de los olvidos 2</td>\n",
       "      <td>1</td>\n",
       "      <td>Tazas</td>\n",
       "      <td>22.0</td>\n",
       "    </tr>\n",
       "    <tr>\n",
       "      <th>2</th>\n",
       "      <td>Local 3</td>\n",
       "      <td>C/ de los establecimientos 3</td>\n",
       "      <td>1</td>\n",
       "      <td>Tazas</td>\n",
       "      <td>22.0</td>\n",
       "    </tr>\n",
       "    <tr>\n",
       "      <th>3</th>\n",
       "      <td>Local 4</td>\n",
       "      <td>C/ de los establecimientos 4</td>\n",
       "      <td>1</td>\n",
       "      <td>Tazas</td>\n",
       "      <td>22.0</td>\n",
       "    </tr>\n",
       "  </tbody>\n",
       "</table>\n",
       "</div>"
      ],
      "text/plain": [
       "    Nombre                  Localizacion  Referencia Nombre   PVP\n",
       "0  Local 1                   C/ y coma 1           1  Tazas  21.5\n",
       "1  Local 2          C/ de los olvidos 2            1  Tazas  22.0\n",
       "2  Local 3  C/ de los establecimientos 3           1  Tazas  22.0\n",
       "3  Local 4  C/ de los establecimientos 4           1  Tazas  22.0"
      ]
     },
     "execution_count": 26,
     "metadata": {},
     "output_type": "execute_result"
    }
   ],
   "source": [
    "  Ref1_df"
   ]
  },
  {
   "cell_type": "code",
   "execution_count": 27,
   "id": "77eab2e7",
   "metadata": {
    "ExecuteTime": {
     "end_time": "2022-03-22T17:23:24.351213Z",
     "start_time": "2022-03-22T17:23:24.290209Z"
    }
   },
   "outputs": [],
   "source": [
    "# Ventas por empleado con numero de referencias y productos\n",
    "\n",
    "\n",
    "try:\n",
    "    db = mysql.connector.connect(host=\"localhost\", database = 'mibasedatos',user=\"root\", passwd=\"2323\",use_pure=True)\n",
    "    query = \"\"\"SELECT empleado.Nombre, empleado.Apellidos,count(referencia.Referencia) as Num_ref, count(producto.ProductoID) as Num_produc, sum(producto.PVP) AS Ventas_totales\n",
    "FROM (((empleado\n",
    "INNER JOIN transacion ON empleado.EmpleadoID=transacion.EmpleadoID)\n",
    "INNER JOIN producto ON transacion.ProductoID=producto.ProductoID)\n",
    "INNER JOIN referencia ON producto.Referencia=referencia.Referencia)\n",
    "group by empleado.Nombre\n",
    "ORDER BY Ventas_Totales DESC;\"\"\"\n",
    "    refyprodu_df = pd.read_sql(query,db)\n",
    "except Exception as e:\n",
    "    db.close()\n",
    "    print(str(e))\n"
   ]
  },
  {
   "cell_type": "code",
   "execution_count": 28,
   "id": "0ffbd3ab",
   "metadata": {
    "ExecuteTime": {
     "end_time": "2022-03-22T17:23:24.367215Z",
     "start_time": "2022-03-22T17:23:24.353213Z"
    }
   },
   "outputs": [
    {
     "data": {
      "text/html": [
       "<div>\n",
       "<style scoped>\n",
       "    .dataframe tbody tr th:only-of-type {\n",
       "        vertical-align: middle;\n",
       "    }\n",
       "\n",
       "    .dataframe tbody tr th {\n",
       "        vertical-align: top;\n",
       "    }\n",
       "\n",
       "    .dataframe thead th {\n",
       "        text-align: right;\n",
       "    }\n",
       "</style>\n",
       "<table border=\"1\" class=\"dataframe\">\n",
       "  <thead>\n",
       "    <tr style=\"text-align: right;\">\n",
       "      <th></th>\n",
       "      <th>Nombre</th>\n",
       "      <th>Apellidos</th>\n",
       "      <th>Num_ref</th>\n",
       "      <th>Num_produc</th>\n",
       "      <th>Ventas_totales</th>\n",
       "    </tr>\n",
       "  </thead>\n",
       "  <tbody>\n",
       "    <tr>\n",
       "      <th>0</th>\n",
       "      <td>Irene</td>\n",
       "      <td>Lopez Martin</td>\n",
       "      <td>4</td>\n",
       "      <td>4</td>\n",
       "      <td>88.0</td>\n",
       "    </tr>\n",
       "    <tr>\n",
       "      <th>1</th>\n",
       "      <td>Carles</td>\n",
       "      <td>Diaz Romero</td>\n",
       "      <td>4</td>\n",
       "      <td>4</td>\n",
       "      <td>88.0</td>\n",
       "    </tr>\n",
       "    <tr>\n",
       "      <th>2</th>\n",
       "      <td>Pepe</td>\n",
       "      <td>Alcala Romero</td>\n",
       "      <td>4</td>\n",
       "      <td>4</td>\n",
       "      <td>88.0</td>\n",
       "    </tr>\n",
       "    <tr>\n",
       "      <th>3</th>\n",
       "      <td>Maria</td>\n",
       "      <td>Garcia Martinez</td>\n",
       "      <td>2</td>\n",
       "      <td>2</td>\n",
       "      <td>43.0</td>\n",
       "    </tr>\n",
       "    <tr>\n",
       "      <th>4</th>\n",
       "      <td>Marip</td>\n",
       "      <td>Perez Lopez</td>\n",
       "      <td>2</td>\n",
       "      <td>2</td>\n",
       "      <td>43.0</td>\n",
       "    </tr>\n",
       "  </tbody>\n",
       "</table>\n",
       "</div>"
      ],
      "text/plain": [
       "   Nombre        Apellidos  Num_ref  Num_produc  Ventas_totales\n",
       "0   Irene     Lopez Martin        4           4            88.0\n",
       "1  Carles      Diaz Romero        4           4            88.0\n",
       "2    Pepe    Alcala Romero        4           4            88.0\n",
       "3   Maria  Garcia Martinez        2           2            43.0\n",
       "4   Marip      Perez Lopez        2           2            43.0"
      ]
     },
     "execution_count": 28,
     "metadata": {},
     "output_type": "execute_result"
    }
   ],
   "source": [
    "refyprodu_df"
   ]
  },
  {
   "cell_type": "code",
   "execution_count": 29,
   "id": "387952be",
   "metadata": {
    "ExecuteTime": {
     "end_time": "2022-03-22T17:23:24.429481Z",
     "start_time": "2022-03-22T17:23:24.369213Z"
    }
   },
   "outputs": [],
   "source": [
    "#Ventas por empleado con numero de referencias y productos. \n",
    "# Empleado que haya vendido más de dos referencias diferentes.\n",
    "try:\n",
    "    db = mysql.connector.connect(host=\"localhost\", database = 'mibasedatos',user=\"root\", passwd=\"2323\",use_pure=True)\n",
    "    query = \"\"\"SELECT empleado.Nombre, empleado.Apellidos,count(referencia.Referencia) as Num_ref, count(producto.ProductoID) as Num_produc, sum(producto.PVP) AS Ventas_totales\n",
    "FROM (((empleado\n",
    "INNER JOIN transacion ON empleado.EmpleadoID=transacion.EmpleadoID)\n",
    "INNER JOIN producto ON transacion.ProductoID=producto.ProductoID)\n",
    "INNER JOIN referencia ON producto.Referencia=referencia.Referencia)\n",
    "group by empleado.Nombre\n",
    "HAVING Num_ref>\"2\"\n",
    "ORDER BY Ventas_Totales DESC;\"\"\"\n",
    "    Ventas_num_ref_df = pd.read_sql(query,db)\n",
    "except Exception as e:\n",
    "    db.close()\n",
    "    print(str(e))"
   ]
  },
  {
   "cell_type": "code",
   "execution_count": 30,
   "id": "8dc0b27d",
   "metadata": {
    "ExecuteTime": {
     "end_time": "2022-03-22T17:23:24.445482Z",
     "start_time": "2022-03-22T17:23:24.431481Z"
    }
   },
   "outputs": [
    {
     "data": {
      "text/html": [
       "<div>\n",
       "<style scoped>\n",
       "    .dataframe tbody tr th:only-of-type {\n",
       "        vertical-align: middle;\n",
       "    }\n",
       "\n",
       "    .dataframe tbody tr th {\n",
       "        vertical-align: top;\n",
       "    }\n",
       "\n",
       "    .dataframe thead th {\n",
       "        text-align: right;\n",
       "    }\n",
       "</style>\n",
       "<table border=\"1\" class=\"dataframe\">\n",
       "  <thead>\n",
       "    <tr style=\"text-align: right;\">\n",
       "      <th></th>\n",
       "      <th>Nombre</th>\n",
       "      <th>Apellidos</th>\n",
       "      <th>Num_ref</th>\n",
       "      <th>Num_produc</th>\n",
       "      <th>Ventas_totales</th>\n",
       "    </tr>\n",
       "  </thead>\n",
       "  <tbody>\n",
       "    <tr>\n",
       "      <th>0</th>\n",
       "      <td>Irene</td>\n",
       "      <td>Lopez Martin</td>\n",
       "      <td>4</td>\n",
       "      <td>4</td>\n",
       "      <td>88.0</td>\n",
       "    </tr>\n",
       "    <tr>\n",
       "      <th>1</th>\n",
       "      <td>Carles</td>\n",
       "      <td>Diaz Romero</td>\n",
       "      <td>4</td>\n",
       "      <td>4</td>\n",
       "      <td>88.0</td>\n",
       "    </tr>\n",
       "    <tr>\n",
       "      <th>2</th>\n",
       "      <td>Pepe</td>\n",
       "      <td>Alcala Romero</td>\n",
       "      <td>4</td>\n",
       "      <td>4</td>\n",
       "      <td>88.0</td>\n",
       "    </tr>\n",
       "  </tbody>\n",
       "</table>\n",
       "</div>"
      ],
      "text/plain": [
       "   Nombre      Apellidos  Num_ref  Num_produc  Ventas_totales\n",
       "0   Irene   Lopez Martin        4           4            88.0\n",
       "1  Carles    Diaz Romero        4           4            88.0\n",
       "2    Pepe  Alcala Romero        4           4            88.0"
      ]
     },
     "execution_count": 30,
     "metadata": {},
     "output_type": "execute_result"
    }
   ],
   "source": [
    " Ventas_num_ref_df"
   ]
  },
  {
   "cell_type": "markdown",
   "id": "40dc39a2",
   "metadata": {},
   "source": [
    "***"
   ]
  }
 ],
 "metadata": {
  "kernelspec": {
   "display_name": "Python 3",
   "language": "python",
   "name": "python3"
  },
  "language_info": {
   "codemirror_mode": {
    "name": "ipython",
    "version": 3
   },
   "file_extension": ".py",
   "mimetype": "text/x-python",
   "name": "python",
   "nbconvert_exporter": "python",
   "pygments_lexer": "ipython3",
   "version": "3.8.8"
  }
 },
 "nbformat": 4,
 "nbformat_minor": 5
}
